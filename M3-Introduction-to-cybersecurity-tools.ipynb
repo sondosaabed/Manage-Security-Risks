{
 "cells": [
  {
   "cell_type": "markdown",
   "metadata": {},
   "source": [
    "## Logs\n",
    "### Definition\n",
    "A log is a record of events that occur within an organization's systems and networks.\n",
    "\n",
    "### Types of Logs\n",
    "- **Firewall logs**: Is a record of attempted or established connections for incoming traffic from the internet. It also includes outbound requests to the internet from within the network.\n",
    "\n",
    "- **Network Logs**: is a record of all computers and devices that enter and leave the network. It also records connections between devices and services on the network.\n",
    "\n",
    "- **Server Logs**: a record of events related to services, such as websites, emails or file shares. It includes actions such as login, passwords, and username requests."
   ]
  },
  {
   "cell_type": "markdown",
   "metadata": {},
   "source": [
    "## SEIM \n",
    "An application that collects and analyzes log data to monitor critical activities in an organization. They save time and productivity.\n",
    "- visual representations, summary of data, metrics\n",
    "- **Metrics**: key technical attributes, such as response time, availability, and failure rate, which are used to assess the performance of a software application.\n",
    "\n",
    "![image](https://github.com/user-attachments/assets/40337876-769d-468f-b138-a167487eb5d5)"
   ]
  }
 ],
 "metadata": {
  "language_info": {
   "name": "python"
  }
 },
 "nbformat": 4,
 "nbformat_minor": 2
}
