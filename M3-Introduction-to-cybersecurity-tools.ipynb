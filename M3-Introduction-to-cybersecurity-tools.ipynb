{
 "cells": [
  {
   "cell_type": "markdown",
   "metadata": {},
   "source": [
    "## Logs\n",
    "### Definition\n",
    "A log is a record of events that occur within an organization's systems and networks.\n",
    "\n",
    "### Types of Logs\n",
    "- **Firewall logs**: Is a record of attempted or established connections for incoming traffic from the internet. It also includes outbound requests to the internet from within the network.\n",
    "\n",
    "- **Network Logs**: is a record of all computers and devices that enter and leave the network. It also records connections between devices and services on the network.\n",
    "\n",
    "- **Server Logs**: a record of events related to services, such as websites, emails or file shares. It includes actions such as login, passwords, and username requests."
   ]
  },
  {
   "cell_type": "markdown",
   "metadata": {},
   "source": [
    "## SEIM \n",
    "An application that collects and analyzes log data to monitor critical activities in an organization. They save time and productivity.\n",
    "- visual representations, summary of data, metrics\n",
    "- **Metrics**: key technical attributes, such as response time, availability, and failure rate, which are used to assess the performance of a software application.\n",
    "\n",
    "![image](https://github.com/user-attachments/assets/40337876-769d-468f-b138-a167487eb5d5)"
   ]
  },
  {
   "cell_type": "markdown",
   "metadata": {},
   "source": [
    "## The future of SIEM tools\n",
    "Previously, you were introduced to security information and event management (SIEM) tools, along with a few examples of SIEM tools. In this reading, you will learn more about how SIEM tools are used to protect organizational operations. You will also gain insight into how and why SIEM tools are changing to help protect organizations and the people they serve from evolving threat actor tactics and techniques.\n",
    "\n",
    "### Current SIEM solutions \n",
    "A SIEM tool is an application that collects and analyzes log data to monitor critical activities in an organization. SIEM tools offer real-time monitoring and tracking of security event logs. The data is then used to conduct a thorough analysis of any potential security threat, risk, or vulnerability identified. SIEM tools have many dashboard options. Each dashboard option helps cybersecurity team members manage and monitor organizational data. However, currently, SIEM tools require human interaction for analysis of security events.  \n",
    "\n",
    "### The future of SIEM tools\n",
    "As cybersecurity continues to evolve, the need for cloud functionality has increased. SIEM tools have and continue to evolve to function in cloud-hosted and cloud-native environments. Cloud-hosted SIEM tools are operated by vendors who are responsible for maintaining and managing the infrastructure required to use the tools. Cloud-hosted tools are simply accessed through the internet and are an ideal solution for organizations that don’t want to invest in creating and maintaining their own infrastructure.\n",
    "\n",
    "Similar to cloud-hosted SIEM tools, cloud-native SIEM tools are also fully maintained and managed by vendors and accessed through the internet. However, cloud-native tools are designed to take full advantage of cloud computing capabilities, such as availability, flexibility, and scalability. \n",
    "\n",
    "Yet, the evolution of SIEM tools is expected to continue in order to accommodate the changing nature of technology, as well as new threat actor tactics and techniques. For example, consider the current development of interconnected devices with access to the internet, known as the Internet of Things (IoT). The more interconnected devices there are, the larger the cybersecurity attack surface and the amount of data that threat actors can exploit. The diversity of attacks and data that require special attention is expected to grow significantly. Additionally, as artificial intelligence (AI) and machine learning (ML) technology continues to progress, SIEM capabilities will be enhanced to better identify threat-related terminology, dashboard visualization, and data storage functionality.  \n",
    "\n",
    "The implementation of automation will also help security teams respond faster to possible incidents, performing many actions without waiting for a human response. Security orchestration, automation, and response (SOAR) is a collection of applications, tools, and workflows that uses automation to respond to security events. Essentially, this means that handling common security-related incidents with the use of SIEM tools is expected to become a more streamlined process requiring less manual intervention. This frees up security analysts to handle more complex and uncommon incidents that, consequently, can’t be automated with a SOAR. Nevertheless, the expectation is for cybersecurity-related platforms to communicate and interact with one another. Although the technology allowing interconnected systems and devices to communicate with each other exists, it is still a work in progress.\n",
    "\n",
    "## Key takeaways\n",
    "SIEM tools play a major role in monitoring an organization’s data. As an entry-level security analyst, you might monitor SIEM dashboards as part of your daily tasks. Regularly researching new developments in SIEM technology will help you grow and adapt to the changes in the cybersecurity field. Cloud computing, SIEM-application integration, and automation are only some of the advancements security professionals can expect in the future evolution of SIEM tools."
   ]
  },
  {
   "cell_type": "markdown",
   "metadata": {},
   "source": [
    "## Explore common SIEM tools\n",
    "based on security needs\n",
    "### Self hosted\n",
    "Self-hosted SIEM tools require organizations to install, operate, and\n",
    "maintain the tool using their own physical infrastructure, such as server capacity. These applications are then managed and maintained by the organization's IT department, rather than a third party vendor. Self-hosted SIEM tools are ideal when an organization is required to maintain physical control over confidential data. \n",
    "\n",
    "Splunk Enterprise\n",
    "\n",
    "### Cloud hosted\n",
    "cloud-hosted SIEM tools are maintained and\n",
    "managed by the SIEM providers, making them accessible through the internet.\n",
    "Cloud-hosted SIEM tools are ideal for organizations that don't want to\n",
    "invest in creating and maintaining their own infrastructure. \n",
    "\n",
    "Splunk Cloud\n",
    "\n",
    "Chronicle(cloud-native tools): but designed to take full advantage of cloud features.\n",
    "\n",
    "### Hybrid solution\n",
    "organization can choose to use a combination of both self-hosted and\n",
    "cloud-hosted SIEM tools, known as a hybrid solution.\n",
    "Organizations might choose a hybrid SIEM solution to leverage the benefits of\n",
    "the cloud while also maintaining physical control over confidential data."
   ]
  },
  {
   "cell_type": "markdown",
   "metadata": {},
   "source": [
    "## More about cybersecurity tools\n",
    "\n",
    "Previously, you learned about several tools that are used by cybersecurity team members to monitor for and identify potential security threats, risks, and vulnerabilities. In this reading, you’ll learn more about common open-source and proprietary cybersecurity tools that you may use as a cybersecurity professional.\n",
    "\n",
    "### Open-source tools\n",
    "\n",
    "Open-source tools are often free to use and can be user friendly. The objective of open-source tools is to provide users with software that is built by the public in a collaborative way, which can result in the software being more secure. Additionally, open-source tools allow for more customization by users, resulting in a variety of new services built from the same open-source software package. \n",
    "\n",
    "Software engineers create open-source projects to improve software and make it available for anyone to use, as long as the specified license is respected. The source code for open-source projects is readily available to users, as well as the training material that accompanies them. Having these sources readily available allows users to modify and improve project materials. \n",
    "\n",
    "### Proprietary tools\n",
    "\n",
    "Proprietary tools are developed and owned by a person or company, and users typically pay a fee for usage and training. The owners of proprietary tools are the only ones who can access and modify the source code. This means that users generally need to wait for updates to be made to the software, and at times they might need to pay a fee for those updates. Proprietary software generally allows users to modify a limited number of features to meet individual and organizational needs. Examples of proprietary tools include Splunk® and Chronicle SIEM tools.\n",
    "\n",
    "#### Common misconceptions\n",
    "\n",
    "There is a common misconception that open-source tools are less effective and not as safe to use as proprietary tools. However, developers have been creating open-source materials for years that have become industry standards. Although it is true that threat actors have attempted to manipulate open-source tools, because these tools are open source it is actually harder for people with malicious intent to successfully cause harm. The wide exposure and immediate access to the source code by well-intentioned and informed users and professionals makes it less likely for issues to occur, because they can fix issues as soon as they’re identified.  \n",
    "\n",
    "### Examples of open-source tools\n",
    "\n",
    "In security, there are many tools in use that are open-source and commonly available. Two examples are Linux and Suricata.\n",
    "\n",
    "#### Linux\n",
    "\n",
    "Linux is an open-source operating system that is widely used. It allows you to tailor the operating system to your needs using a command-line interface. An operating system is the interface between computer hardware and the user. It’s used to communicate with the hardware of a computer and manage software applications. \n",
    "\n",
    "There are multiple versions of Linux that exist to accomplish specific tasks. Linux and its command-line interface will be discussed in detail, later in the certificate program. \n",
    "\n",
    "#### Suricata\n",
    "\n",
    "Suricata is an open-source network analysis and threat detection software.  Network analysis and threat detection software is used to inspect network traffic to identify suspicious behavior and generate network data logs. The detection software finds activity across users, computers, or Internet Protocol (IP) addresses to help uncover potential threats, risks, or vulnerabilities. \n",
    "\n",
    "Suricata was developed by the Open Information Security Foundation (OISF). OISF is dedicated to maintaining open-source use of the Suricata project to ensure it’s free and publicly available. Suricata is widely used in the public and private sector, and it integrates with many SIEM tools and other security tools. Suricata will also be discussed in greater detail later in the program.\n",
    "\n",
    "## Key takeaways\n",
    "Open-source tools are widely used in the cybersecurity profession. Throughout the certificate program, you will have multiple opportunities to learn about and explore both open-source and proprietary tools in more depth."
   ]
  }
 ],
 "metadata": {
  "language_info": {
   "name": "python"
  }
 },
 "nbformat": 4,
 "nbformat_minor": 2
}
